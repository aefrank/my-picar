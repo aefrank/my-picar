{
 "cells": [
  {
   "cell_type": "code",
   "execution_count": 1,
   "metadata": {},
   "outputs": [],
   "source": [
    "import numpy as np\n",
    "import matplotlib.pyplot as plt\n",
    "import matplotlib as mpl\n",
    "import sys\n",
    "from math import pi, sin, cos, tan\n",
    "\n",
    "# Find SunFounder_PiCar submodule\n",
    "sys.path.append(\"../lib\")\n",
    "sys.path.append(\"../lib/SunFounder_PiCar\")\n",
    "\n",
    "# Custom libraries\n",
    "from helpers import sign, angle_a2b, within_pi, clip\n",
    "from my_pid import myPID\n",
    "import perspectives \n",
    "from cartesian_pose import CartesianPose\n",
    "from bicycle_model  import BicyclePose, BicycleModel\n",
    "from my_picar_utils import PicarHardwareInterface as Hardware \n",
    "from my_picar_utils import MyPicarController as Controller\n",
    "from my_picar_utils import HardwareUnitConverter as Converter \n",
    "from my_picar_utils import MyWorldFrame as World \n",
    "from my_picar import Picar"
   ]
  },
  {
   "cell_type": "code",
   "execution_count": 2,
   "metadata": {},
   "outputs": [],
   "source": [
    "def rotmat(theta):\n",
    "    return np.array([[cos(theta), -sin(theta)], [sin(theta),cos(theta)]])\n",
    "\n",
    "WIDTH=.8\n",
    "HEIGHT=1.2\n",
    "dims = np.array([HEIGHT,WIDTH])\n",
    "def plot_wp_rects(ax, allposes):\n",
    "    for pose in allposes:\n",
    "        xy = pose[:2]\n",
    "        th = pose[2]\n",
    "        correction = np.matmul(rotmat(th), dims)/2\n",
    "        r = mpl.patches.Rectangle(xy, HEIGHT, WIDTH, angle=th*180/pi, zorder=0)\n",
    "        r.set_xy(xy-correction)\n",
    "        ax.add_patch(r)\n",
    "    "
   ]
  },
  {
   "cell_type": "code",
   "execution_count": 3,
   "metadata": {},
   "outputs": [],
   "source": [
    "picar = Picar(virtual=True)\n",
    "rhoPID   = myPID(Kp=1, Kd=0, Ki=0)\n",
    "alphaPID = myPID(Kp=1, Kd=0, Ki=0)\n",
    "betaPID  = myPID(Kp=1, Kd=0, Ki=0)\n",
    "\n",
    "controller = Controller(rhoPID, alphaPID, betaPID)"
   ]
  },
  {
   "cell_type": "code",
   "execution_count": 4,
   "metadata": {},
   "outputs": [
    {
     "data": {
      "text/plain": [
       "<matplotlib.quiver.Quiver at 0x7f0c44f6f0b8>"
      ]
     },
     "execution_count": 4,
     "metadata": {},
     "output_type": "execute_result"
    },
    {
     "data": {
      "image/png": "[encoded data removed]",
      "text/plain": [
       "<Figure size 576x576 with 1 Axes>"
      ]
     },
     "metadata": {},
     "output_type": "display_data"
    }
   ],
   "source": [
    "env_lims = np.array([ [0, 10], [0,10] ])\n",
    "\n",
    "# Coverage strategy: Snake vertically, then horizontally\n",
    "fig = plt.figure(figsize=(8,8))\n",
    "plt.plot([0,10,10,0, 0], [0, 0, 10, 10, 0], 'k')\n",
    "ax = plt.gca()\n",
    "ax.axis('equal')\n",
    "\n",
    "QR_codes = {\n",
    "    \"pos\" : np.array([ \n",
    "                [ 0,   2], [  0,  4], [ 0, 6], [ 0, 8], #left wall\n",
    "                [ 10,  2], [  10, 4], [10, 6], [10, 8], # right wall\n",
    "                [3.3,  0], [6.6,  0], # bottom wall\n",
    "                [3.3, 10], [6.6, 10] # top wall\n",
    "               ]),\n",
    "    \"id\" : np.array([ 1, 2, 2, 1,  # left wall\n",
    "                      2, 1, 1, 2,  # right wall\n",
    "                      1, 2,  # bottom wall\n",
    "                      2, 1   # top wall\n",
    "                    ])\n",
    "}\n",
    "\n",
    "\n",
    "picar_start = np.array([2,2, pi/2])\n",
    "waypoints = np.array([\n",
    "    [2,8,  pi/2],\n",
    "    [4,8, -pi/2],\n",
    "    [4,2, -pi/2],\n",
    "    [6,2,  pi/2],\n",
    "    [6,8,  pi/2],\n",
    "    [8,8, -pi/2],\n",
    "    [8,2, -pi/2]\n",
    "])\n",
    "allposes = np.insert(waypoints, 0, picar_start, axis=0) \n",
    "\n",
    "\n",
    "\n",
    "ax.scatter(QR_codes[\"pos\"][:,0], QR_codes[\"pos\"][:,1], c='b', marker='s', s=200)\n",
    "plt.plot( allposes[:,0], allposes[:,1], color='gray', ls='--')\n",
    "plot_wp_rects(ax, allposes)\n",
    "ax.quiver( allposes[:,0], allposes[:,1], \n",
    "           np.cos(allposes[:,2]), np.sin(allposes[:,2]),\n",
    "           color='r') "
   ]
  },
  {
   "cell_type": "code",
   "execution_count": 5,
   "metadata": {},
   "outputs": [],
   "source": [
    "picar.world_pose = picar_start\n",
    "goal = waypoints[0]\n",
    "\n",
    "def dist(a,b):\n",
    "    a = np.array(a)\n",
    "    b = np.array(b)\n",
    "    if np.ndim(a)==1:\n",
    "        a = a[None]\n",
    "    if np.ndim(b)==1:\n",
    "        b = b[None]\n",
    "    return np.squeeze(np.sqrt(np.sum(np.power(a-b,2),axis=1)))\n",
    "\n",
    "# while ( dist(picar.world_pose, goal) )"
   ]
  },
  {
   "cell_type": "code",
   "execution_count": 9,
   "metadata": {},
   "outputs": [
    {
     "ename": "AttributeError",
     "evalue": "'numpy.ndarray' object has no attribute 'dist'",
     "output_type": "error",
     "traceback": [
      "\u001b[0;31m---------------------------------------------------------------------------\u001b[0m",
      "\u001b[0;31mAttributeError\u001b[0m                            Traceback (most recent call last)",
      "\u001b[0;32m<ipython-input-9-36393f8f3716>\u001b[0m in \u001b[0;36m<module>\u001b[0;34m()\u001b[0m\n\u001b[0;32m----> 1\u001b[0;31m \u001b[0mpicar\u001b[0m\u001b[0;34m.\u001b[0m\u001b[0mworld_pose\u001b[0m\u001b[0;34m.\u001b[0m\u001b[0mdist\u001b[0m\u001b[0;34m(\u001b[0m \u001b[0mCartesianPose\u001b[0m\u001b[0;34m(\u001b[0m\u001b[0mgoal\u001b[0m\u001b[0;34m[\u001b[0m\u001b[0;36m0\u001b[0m\u001b[0;34m]\u001b[0m\u001b[0;34m,\u001b[0m \u001b[0mgoal\u001b[0m\u001b[0;34m[\u001b[0m\u001b[0;36m1\u001b[0m\u001b[0;34m]\u001b[0m\u001b[0;34m,\u001b[0m \u001b[0mgoal\u001b[0m\u001b[0;34m[\u001b[0m\u001b[0;36m2\u001b[0m\u001b[0;34m]\u001b[0m\u001b[0;34m)\u001b[0m\u001b[0;34m)\u001b[0m\u001b[0;34m\u001b[0m\u001b[0m\n\u001b[0m",
      "\u001b[0;31mAttributeError\u001b[0m: 'numpy.ndarray' object has no attribute 'dist'"
     ]
    }
   ],
   "source": [
    "picar.world_pose.dist( CartesianPose(goal[0], goal[1], goal[2]))"
   ]
  },
  {
   "cell_type": "code",
   "execution_count": null,
   "metadata": {},
   "outputs": [],
   "source": []
  }
 ],
 "metadata": {
  "kernelspec": {
   "display_name": "Python 3",
   "language": "python",
   "name": "python3"
  },
  "language_info": {
   "codemirror_mode": {
    "name": "ipython",
    "version": 3
   },
   "file_extension": ".py",
   "mimetype": "text/x-python",
   "name": "python",
   "nbconvert_exporter": "python",
   "pygments_lexer": "ipython3",
   "version": "3.6.6"
  }
 },
 "nbformat": 4,
 "nbformat_minor": 2
}
