{
 "cells": [
  {
   "cell_type": "markdown",
   "metadata": {},
   "source": [
    "# HW5: Picar coverage via Spanning Tree Coverage algorithm\n",
    "\n",
    "See: https://www.cs.cmu.edu/~arielpro/mfai_papers/lecture2.pdf"
   ]
  },
  {
   "cell_type": "markdown",
   "metadata": {},
   "source": [
    "Andrea Frank\n",
    "CSE 276A\n",
    "Fall 2019"
   ]
  },
  {
   "cell_type": "code",
   "execution_count": 1,
   "metadata": {},
   "outputs": [],
   "source": [
    "# IMPORTS\n",
    "import numpy as np\n",
    "import scipy as sp\n",
    "import matplotlib as mpl\n",
    "import matplotlib.pyplot as plt\n",
    "import networkx as nx\n",
    "import copy\n",
    "from math import pi, sin, cos, tan, atan, atan2"
   ]
  },
  {
   "cell_type": "markdown",
   "metadata": {},
   "source": [
    "#### Define some helper functions"
   ]
  },
  {
   "cell_type": "code",
   "execution_count": 2,
   "metadata": {},
   "outputs": [],
   "source": [
    "# Credit to Stack Overflow users Gareth Rees for the intersection proof below and and \n",
    "#   Ibraim Ganiev for the implementation in python.\n",
    "# See: https://stackoverflow.com/questions/563198/how-do-you-detect-where-two-line-segments-intersect\n",
    "\n",
    "def np_cross_product(a, b):\n",
    "    return a[0]*b[1]-a[1]*b[0]\n",
    "\n",
    "def np_seg_intersect(a, b, considerCollinearOverlapAsIntersect = False):\n",
    "    # https://stackoverflow.com/questions/563198/how-do-you-detect-where-two-line-segments-intersect/565282#565282\n",
    "    # http://www.codeproject.com/Tips/862988/Find-the-intersection-point-of-two-line-segments\n",
    "    \n",
    "    r = a[1] - a[0] # vector representation of segment A\n",
    "    s = b[1] - b[0] # vector representation of segment B\n",
    "    v = b[0] - a[0]\n",
    "    # Calculate 2D cross products\n",
    "    num = np_cross_product(v, r)\n",
    "    denom = np_cross_product(r, s)\n",
    "#     # If r x s = 0 and (q - p) x r = 0, then the two lines are collinear. --> Never the case in this implementation\n",
    "#     if np.isclose(denom, 0) and np.isclose(num, 0):\n",
    "#         return None\n",
    "    if np.isclose(denom, 0) and not np.isclose(num, 0):\n",
    "        # Parallel and non intersecting\n",
    "        return None\n",
    "    u = num / denom\n",
    "    t = np_cross_product(v, s) / denom\n",
    "    if u >= 0 and u <= 1 and t >= 0 and t <= 1:\n",
    "        res = b[0] + (s*u)\n",
    "        return res\n",
    "    # Otherwise, the two line segments are not parallel but do not intersect.\n",
    "    return None\n"
   ]
  },
  {
   "cell_type": "code",
   "execution_count": 3,
   "metadata": {},
   "outputs": [],
   "source": [
    "# For path planning\n",
    "\n",
    "def done(neighbors, path):\n",
    "    for node in neighbors:\n",
    "        # If we find any neighbor not in the path, you can move forward.\n",
    "        if node not in path.nodes:\n",
    "            return False\n",
    "    # If all neighbors are already in path, you're done!\n",
    "    return True\n",
    "\n",
    "def best_move(my_pos, my_heading, path, grid, bias=pi/3):\n",
    "    neighbors = list(grid.neighbors(my_pos))\n",
    "    # Check if we're out of valid neighbors\n",
    "    if done(neighbors, path):\n",
    "        return None\n",
    "    # Otherwise find best choice\n",
    "    direction = []\n",
    "    cost = []\n",
    "    for node in neighbors:\n",
    "        # We want to ignore nodes that we've already passed\n",
    "        if node in path.nodes:\n",
    "            direction.append(float('inf'))\n",
    "            cost.append(float('inf'))\n",
    "        else:\n",
    "            diff = np.array(node) - np.array(my_pos)\n",
    "            direction.append(atan2(diff[1],diff[0]))\n",
    "            cost.append( abs(direction[-1]-(my_heading+bias)) )\n",
    "            if cost[-1]<0:\n",
    "                cost[-1] += 2*pi # consider left turns only --> like walking with your hand on the left wall\n",
    "    choice = np.argmin(cost)\n",
    "    goal_pos = neighbors[choice]\n",
    "    goal_heading = direction[choice]\n",
    "    \n",
    "    return goal_pos, goal_heading"
   ]
  },
  {
   "cell_type": "markdown",
   "metadata": {},
   "source": [
    "## Find a spanning tree of the environment.\n",
    "\n",
    "The first step of the Spanning Tree Coverage is to discretize the environment into a grid. We assume that the robot is one grid cell in size. We then define a 'macro grid', where grid lines are twice as far apart as the original grid (i.e., one macro-cell holds 4 original grid cells in a 2x2 formation). \n",
    "\n",
    "We define the points of the graph for our spanning tree at the center of each of these macro grid cells, i.e. the shared corner of all four cells in the macro cell. We make a graph of these nodes by drawing edges between adjacent nodes."
   ]
  },
  {
   "cell_type": "code",
   "execution_count": 117,
   "metadata": {
    "scrolled": true
   },
   "outputs": [
    {
     "data": {
      "image/png": "[encoded data removed]",
      "text/plain": [
       "<Figure size 432x288 with 1 Axes>"
      ]
     },
     "metadata": {},
     "output_type": "display_data"
    }
   ],
   "source": [
    "# Step 1: Define grid parameters\n",
    "grid_lims  = np.array([[0,10], [0,10]]) # [m]\n",
    "resolution = 1 # [m]\n",
    "rmax, cmax = ((grid_lims[:,1]-grid_lims[:,0])/resolution).astype(int)\n",
    "\n",
    "# Step 2: Define macro-grid -- one macro grid square holds a 2x2 base grid squares\n",
    "        # Define nodes at the center of macro grid squares\n",
    "ROWMAX, COLUMNMAX = ((grid_lims[:,1]-grid_lims[:,0])/resolution/2).astype(int)\n",
    "macro_graph = nx.grid_2d_graph(ROWMAX,COLUMNMAX)\n",
    "\n",
    "pos = dict( ( (i,j), (2*i+1/2, 2*(COLUMNMAX-1-j)+1/2) ) for\n",
    "               (i,j) in np.ndindex(ROWMAX, COLUMNMAX))\n",
    "for (i,j) in np.ndindex(ROWMAX, COLUMNMAX):\n",
    "    this_pos = pos[i,j]\n",
    "    macro_graph.nodes[(i,j)][\"pos\"] = this_pos\n",
    "    \n",
    "\n",
    "\n",
    "# Step 3: Find minimum spanning tree\n",
    "tree = nx.minimum_spanning_tree(macro_graph)\n",
    "nx.relabel_nodes(tree,pos,False)\n",
    "\n",
    "plt.figure()\n",
    "nx.draw_networkx(tree, pos=nx.get_node_attributes(tree,'pos'), \n",
    "                 with_labels=False, node_size = 15)\n",
    "plt.xlim([0,rmax])\n",
    "plt.ylim([0,cmax])\n",
    "plt.xticks(range(rmax))\n",
    "plt.axis('equal')\n",
    "plt.grid('on')\n",
    "plt.show()\n"
   ]
  },
  {
   "cell_type": "markdown",
   "metadata": {},
   "source": [
    "## Create a path in the original grid that circumnavigates this spanning tree.\n",
    "\n",
    "Below we prove that by circumnavigating the spanning tree of this macro-grid, we are guaranteed to cover every cell that is accessible from the starting cell. Because we have no obstacles in our environment, this is equivalent to covering all cells in the grid.\n",
    "\n",
    "In order to circumnavigate the spanning tree, the robot must pass through each cell that is in contact with the tree. We defined our spanning tree nodes such that every grid cell is touching one node, the node of the macro-cell it is a part of. Therefore, since every cell is touching the spanning tree, and every cell touching the spanning tree is reached through circumnavigation, we can guarantee that the robot will reach every cell in the grid."
   ]
  },
  {
   "cell_type": "markdown",
   "metadata": {},
   "source": [
    "### Finding the circumnavigating path\n",
    "\n",
    "To find the path that circumnavigates the spanning tree, we first create a graph out of the original grid. We do this as we did with the macro graph, by defining nodes in the center of each cell and drawing edges between nodes in adjacent cells. This is performed by the function nx.grid_2d_graph().\n",
    "\n",
    "###### Proof of completeness\n",
    "In order to circumnavigate the spanning tree, we want to guarantee that we will stay on one side of the path. That is, the robot should never make a movement that intersects with one of the spanning tree's edges. To this end, we remove all edges that intersect with the spanning tree from our grid.\n",
    "\n",
    "###### Proof of optimality\n",
    "In my implementation, the robot follows the tree CCW, in a single direction. Assume that the picar passes through a cell in the path twice before completing the loop and returning to its start cell. This implies that there must be a cell that is adjacent to two parallel edges of the spanning tree, such that the robot is able to reach the cell twice while following the tree. However, because the spanning tree was constructed from the macro-grid in which all macro cells are two small cells apart, all edges of the spanning tree are two cells. Thus, one small grid cell cannot be touching two paralel edges of the tree, and therefore the picar will not visit the cell more than once."
   ]
  },
  {
   "cell_type": "code",
   "execution_count": 113,
   "metadata": {},
   "outputs": [
    {
     "data": {
      "text/plain": [
       "(-0.45636242783875175,\n",
       " 9.456362427838751,\n",
       " -0.4597964534603297,\n",
       " 9.459796453460328)"
      ]
     },
     "execution_count": 113,
     "metadata": {},
     "output_type": "execute_result"
    },
    {
     "data": {
      "image/png": "[encoded data removed]",
      "text/plain": [
       "<Figure size 432x288 with 1 Axes>"
      ]
     },
     "metadata": {},
     "output_type": "display_data"
    }
   ],
   "source": [
    "grid = nx.grid_2d_graph(rmax,cmax)\n",
    "for i,j in np.ndindex(rmax,cmax):\n",
    "    grid.nodes[(i,j)][\"pos\"] = (i,cmax-1-j)\n",
    "    \n",
    "G = copy.deepcopy(grid.edges)\n",
    "for edge in G:\n",
    "    for path in tree.edges:\n",
    "        # Intersection test\n",
    "        if np_seg_intersect(np.array(edge), np.array(path)) is not None:\n",
    "            grid.remove_edge(*edge)\n",
    "            \n",
    "nx.draw_networkx(grid, pos=nx.get_node_attributes(grid,'pos'), \n",
    "                 with_labels=False, node_size = 15)\n",
    "\n",
    "plt.axis('equal')"
   ]
  },
  {
   "cell_type": "markdown",
   "metadata": {},
   "source": [
    "Finally, we create the picar's waypoints. We do ths by choosing a starting point -- I chose (x,y,h)=(0,0,0). we will then follow the spanning tree as though we were in a labyrinth and tracing the wall on our left. At each cell, the picar will examine the neighboring cells and decide which is the best choice. It will ignore cells it has already passed through, and it is biased toward turning left to keep it's \"hand on the wall of the labyrinth\" so to speak.\n",
    "\n",
    "We first move one step in the opposite direction of our bias so that the remaining bias will turn us inward -- in practice, this just means we move one step forward before beginning the algorithm so we have a path to our left to trace. We then follow the aforementioned algorithm until we are in a cell where all adjacent cells have already been passed through. Once at this point, our path is complete."
   ]
  },
  {
   "cell_type": "code",
   "execution_count": 115,
   "metadata": {},
   "outputs": [
    {
     "data": {
      "image/png": "[encoded data removed]",
      "text/plain": [
       "<Figure size 432x288 with 1 Axes>"
      ]
     },
     "metadata": {},
     "output_type": "display_data"
    }
   ],
   "source": [
    "path = nx.DiGraph()\n",
    "path.add_node((0,0), pos=(0,0))\n",
    "\n",
    "my_pos = (0,0)\n",
    "my_heading = 0\n",
    "bias = pi/3\n",
    "\n",
    "# Negative bias for first step -- first find the wall, then bias left turns\n",
    "goal_pos, goal_heading = best_move(my_pos, my_heading, path, grid, bias=-bias)\n",
    "path.add_node(goal_pos, pos=goal_pos)\n",
    "path.add_edge(my_pos, goal_pos)\n",
    "my_pos = goal_pos\n",
    "my_heading = goal_heading\n",
    "\n",
    "# Keep hand on same side of \"wall\"\n",
    "neighbors = list(grid.neighbors(my_pos))\n",
    "while( True ):\n",
    "    move = best_move(my_pos, my_heading, path, grid, bias=bias)\n",
    "    if move is None:\n",
    "        break\n",
    "    else:\n",
    "        goal_pos, goal_heading = move\n",
    "    \n",
    "    # picar.to_waypoint(goal)\n",
    "    path.add_node(goal_pos, pos=goal_pos)\n",
    "    path.add_edge(my_pos, goal_pos)\n",
    "    my_pos = goal_pos\n",
    "    my_heading = goal_heading\n",
    "    \n",
    "\n",
    "nx.draw_networkx(path, pos=nx.get_node_attributes(path,'pos'), \n",
    "                 with_labels=False, node_size = 15)\n",
    "plt.axis('equal')\n",
    "plt.grid('on')"
   ]
  },
  {
   "cell_type": "markdown",
   "metadata": {},
   "source": [
    "The path nodes can now be used as waypoints in the picar control loop."
   ]
  },
  {
   "cell_type": "markdown",
   "metadata": {},
   "source": [
    "## Picar Control Loop"
   ]
  },
  {
   "cell_type": "code",
   "execution_count": 8,
   "metadata": {},
   "outputs": [],
   "source": [
    "import numpy as np\n",
    "import matplotlib.pyplot as plt\n",
    "import matplotlib as mpl\n",
    "import sys\n",
    "from math import pi, sin, cos, tan\n",
    "from time import sleep\n",
    "import copy\n",
    "\n",
    "# Find SunFounder_PiCar submodule\n",
    "sys.path.append(\"../lib\")\n",
    "sys.path.append(\"../lib/SunFounder_PiCar\")\n",
    "\n",
    "# Custom libraries\n",
    "from helpers import sign, angle_a2b, within_pi, clip\n",
    "from my_pid import myPID\n",
    "import perspectives \n",
    "from cartesian_pose import CartesianPose\n",
    "from bicycle_model  import BicyclePose, next_pose, dXdt, dYdt, dHdt\n",
    "from my_picar_utils import PicarHardwareInterface as Hardware \n",
    "from my_picar_utils import MyPicarController as Controller\n",
    "from my_picar_utils import HardwareUnitConverter as Converter \n",
    "from my_picar_utils import MyWorldFrame as World \n",
    "from my_picar import Picar"
   ]
  },
  {
   "cell_type": "code",
   "execution_count": 9,
   "metadata": {},
   "outputs": [],
   "source": [
    "def rotmat(theta):\n",
    "    return np.array([[cos(theta), -sin(theta)], [sin(theta),cos(theta)]])\n",
    "\n",
    "WIDTH=.8\n",
    "HEIGHT=1.2\n",
    "dims = np.array([HEIGHT,WIDTH])\n",
    "def plot_wp_rects(ax, allposes):\n",
    "    for pose in allposes:\n",
    "        xy = pose[:2]\n",
    "        th = pose[2]\n",
    "        correction = np.matmul(rotmat(th), dims)/2\n",
    "        r = mpl.patches.Rectangle(xy, HEIGHT, WIDTH, angle=th*180/pi, zorder=0)\n",
    "        r.set_xy(xy-correction)\n",
    "        ax.add_patch(r)\n",
    "    \n",
    "def to_cartesian(xyh):\n",
    "    return CartesianPose(x=xyh[0],y=xyh[1],h=xyh[2])\n",
    "\n",
    "\n",
    "def dist(a,b):\n",
    "    a = np.array(a)\n",
    "    b = np.array(b)\n",
    "    if np.ndim(a)==1:\n",
    "        a = a[None]\n",
    "    if np.ndim(b)==1:\n",
    "        b = b[None]\n",
    "    return np.squeeze(np.sqrt(np.sum(np.power(a-b,2),axis=1)))\n",
    "\n",
    "# while ( dist(picar.world_pose, goal) )"
   ]
  },
  {
   "cell_type": "code",
   "execution_count": 110,
   "metadata": {},
   "outputs": [],
   "source": [
    "rhoPID   = myPID(Kp=0.04, Kd=0.01, Ki=0)\n",
    "alphaPID = myPID(Kp=.075, Kd=0.01, Ki=0)\n",
    "betaPID  = myPID(Kp=0.01, Kd=0, Ki=0)\n",
    "controller = Controller(rhoPID, alphaPID, betaPID)\n",
    "\n",
    "units = Converter(speed_slope=1/83, angle_slope=-1.2) # Left and right are switched in hardware\n",
    "picar    = Picar(unit_converter=units, virtual=True)\n",
    "picar_start = np.array([0,0,0])\n",
    "dt = 0.01\n",
    "\n"
   ]
  },
  {
   "cell_type": "code",
   "execution_count": 111,
   "metadata": {},
   "outputs": [
    {
     "name": "stdout",
     "output_type": "stream",
     "text": [
      "Waypoint reached: {} CartesianPose: ( 1.000,  0.000,  0.000)\n",
      "Waypoint reached: {} CartesianPose: ( 2.000,  0.000,  0.000)\n",
      "Waypoint reached: {} CartesianPose: ( 3.000,  0.000,  0.000)\n",
      "Waypoint reached: {} CartesianPose: ( 4.000,  0.000,  0.000)\n",
      "Waypoint reached: {} CartesianPose: ( 5.000,  0.000,  0.000)\n",
      "Waypoint reached: {} CartesianPose: ( 6.000,  0.000,  0.000)\n",
      "Waypoint reached: {} CartesianPose: ( 7.000,  0.000,  0.000)\n",
      "Waypoint reached: {} CartesianPose: ( 8.000,  0.000,  0.000)\n",
      "Waypoint reached: {} CartesianPose: ( 9.000,  0.000,  0.000)\n",
      "Waypoint reached: {} CartesianPose: ( 9.000,  1.000,  1.571)\n"
     ]
    },
    {
     "ename": "KeyboardInterrupt",
     "evalue": "",
     "output_type": "error",
     "traceback": [
      "\u001b[0;31m---------------------------------------------------------------------------\u001b[0m",
      "\u001b[0;31mAttributeError\u001b[0m                            Traceback (most recent call last)",
      "\u001b[0;32m~/anaconda3/envs/picar/lib/python3.7/site-packages/numpy/core/fromnumeric.py\u001b[0m in \u001b[0;36mndim\u001b[0;34m(a)\u001b[0m\n\u001b[1;32m   3018\u001b[0m     \u001b[0;32mtry\u001b[0m\u001b[0;34m:\u001b[0m\u001b[0;34m\u001b[0m\u001b[0;34m\u001b[0m\u001b[0m\n\u001b[0;32m-> 3019\u001b[0;31m         \u001b[0;32mreturn\u001b[0m \u001b[0ma\u001b[0m\u001b[0;34m.\u001b[0m\u001b[0mndim\u001b[0m\u001b[0;34m\u001b[0m\u001b[0;34m\u001b[0m\u001b[0m\n\u001b[0m\u001b[1;32m   3020\u001b[0m     \u001b[0;32mexcept\u001b[0m \u001b[0mAttributeError\u001b[0m\u001b[0;34m:\u001b[0m\u001b[0;34m\u001b[0m\u001b[0;34m\u001b[0m\u001b[0m\n",
      "\u001b[0;31mAttributeError\u001b[0m: 'list' object has no attribute 'ndim'",
      "\nDuring handling of the above exception, another exception occurred:\n",
      "\u001b[0;31mKeyboardInterrupt\u001b[0m                         Traceback (most recent call last)",
      "\u001b[0;32m<ipython-input-111-560ad5e49395>\u001b[0m in \u001b[0;36m<module>\u001b[0;34m\u001b[0m\n\u001b[1;32m     16\u001b[0m \u001b[0;34m\u001b[0m\u001b[0m\n\u001b[1;32m     17\u001b[0m         \u001b[0;31m# Apply controls -- outputs are potentially adjusted if controls tried to go over max speed/steer\u001b[0m\u001b[0;34m\u001b[0m\u001b[0;34m\u001b[0m\u001b[0;34m\u001b[0m\u001b[0m\n\u001b[0;32m---> 18\u001b[0;31m         \u001b[0mspeed\u001b[0m\u001b[0;34m,\u001b[0m \u001b[0msteer\u001b[0m \u001b[0;34m=\u001b[0m \u001b[0mpicar\u001b[0m\u001b[0;34m.\u001b[0m\u001b[0mdrive\u001b[0m\u001b[0;34m(\u001b[0m\u001b[0mspeed\u001b[0m\u001b[0;34m=\u001b[0m\u001b[0mspeed\u001b[0m\u001b[0;34m,\u001b[0m \u001b[0msteer\u001b[0m\u001b[0;34m=\u001b[0m\u001b[0msteer\u001b[0m\u001b[0;34m,\u001b[0m \u001b[0mdirection\u001b[0m\u001b[0;34m=\u001b[0m\u001b[0mdirection\u001b[0m\u001b[0;34m)\u001b[0m\u001b[0;34m\u001b[0m\u001b[0;34m\u001b[0m\u001b[0m\n\u001b[0m\u001b[1;32m     19\u001b[0m \u001b[0;34m\u001b[0m\u001b[0m\n\u001b[1;32m     20\u001b[0m         \u001b[0;31m# Update state via odometry\u001b[0m\u001b[0;34m\u001b[0m\u001b[0;34m\u001b[0m\u001b[0;34m\u001b[0m\u001b[0m\n",
      "\u001b[0;32m~/intro-robo/my-picar/lib/my_picar.py\u001b[0m in \u001b[0;36mdrive\u001b[0;34m(self, speed, steer, direction)\u001b[0m\n\u001b[1;32m    162\u001b[0m         \u001b[0;31m# Update current controls\u001b[0m\u001b[0;34m\u001b[0m\u001b[0;34m\u001b[0m\u001b[0;34m\u001b[0m\u001b[0m\n\u001b[1;32m    163\u001b[0m         \u001b[0;32mif\u001b[0m \u001b[0mspeed\u001b[0m \u001b[0;32mis\u001b[0m \u001b[0;32mnot\u001b[0m \u001b[0;32mNone\u001b[0m\u001b[0;34m:\u001b[0m\u001b[0;34m\u001b[0m\u001b[0;34m\u001b[0m\u001b[0m\n\u001b[0;32m--> 164\u001b[0;31m             \u001b[0;32mif\u001b[0m \u001b[0mnp\u001b[0m\u001b[0;34m.\u001b[0m\u001b[0mndim\u001b[0m\u001b[0;34m(\u001b[0m\u001b[0mcontrols\u001b[0m\u001b[0;34m)\u001b[0m \u001b[0;34m==\u001b[0m \u001b[0;36m1\u001b[0m\u001b[0;34m:\u001b[0m\u001b[0;34m\u001b[0m\u001b[0;34m\u001b[0m\u001b[0m\n\u001b[0m\u001b[1;32m    165\u001b[0m                 \u001b[0mself\u001b[0m\u001b[0;34m.\u001b[0m\u001b[0m_current_speed\u001b[0m \u001b[0;34m=\u001b[0m \u001b[0mcontrols\u001b[0m\u001b[0;34m[\u001b[0m\u001b[0;36m0\u001b[0m\u001b[0;34m]\u001b[0m\u001b[0;34m\u001b[0m\u001b[0;34m\u001b[0m\u001b[0m\n\u001b[1;32m    166\u001b[0m             \u001b[0;32melse\u001b[0m\u001b[0;34m:\u001b[0m\u001b[0;34m\u001b[0m\u001b[0;34m\u001b[0m\u001b[0m\n",
      "\u001b[0;32m<__array_function__ internals>\u001b[0m in \u001b[0;36mndim\u001b[0;34m(*args, **kwargs)\u001b[0m\n",
      "\u001b[0;32m~/anaconda3/envs/picar/lib/python3.7/site-packages/numpy/core/fromnumeric.py\u001b[0m in \u001b[0;36mndim\u001b[0;34m(a)\u001b[0m\n\u001b[1;32m   3019\u001b[0m         \u001b[0;32mreturn\u001b[0m \u001b[0ma\u001b[0m\u001b[0;34m.\u001b[0m\u001b[0mndim\u001b[0m\u001b[0;34m\u001b[0m\u001b[0;34m\u001b[0m\u001b[0m\n\u001b[1;32m   3020\u001b[0m     \u001b[0;32mexcept\u001b[0m \u001b[0mAttributeError\u001b[0m\u001b[0;34m:\u001b[0m\u001b[0;34m\u001b[0m\u001b[0;34m\u001b[0m\u001b[0m\n\u001b[0;32m-> 3021\u001b[0;31m         \u001b[0;32mreturn\u001b[0m \u001b[0masarray\u001b[0m\u001b[0;34m(\u001b[0m\u001b[0ma\u001b[0m\u001b[0;34m)\u001b[0m\u001b[0;34m.\u001b[0m\u001b[0mndim\u001b[0m\u001b[0;34m\u001b[0m\u001b[0;34m\u001b[0m\u001b[0m\n\u001b[0m\u001b[1;32m   3022\u001b[0m \u001b[0;34m\u001b[0m\u001b[0m\n\u001b[1;32m   3023\u001b[0m \u001b[0;34m\u001b[0m\u001b[0m\n",
      "\u001b[0;32m~/anaconda3/envs/picar/lib/python3.7/site-packages/numpy/core/_asarray.py\u001b[0m in \u001b[0;36masarray\u001b[0;34m(a, dtype, order)\u001b[0m\n\u001b[1;32m     83\u001b[0m \u001b[0;34m\u001b[0m\u001b[0m\n\u001b[1;32m     84\u001b[0m     \"\"\"\n\u001b[0;32m---> 85\u001b[0;31m     \u001b[0;32mreturn\u001b[0m \u001b[0marray\u001b[0m\u001b[0;34m(\u001b[0m\u001b[0ma\u001b[0m\u001b[0;34m,\u001b[0m \u001b[0mdtype\u001b[0m\u001b[0;34m,\u001b[0m \u001b[0mcopy\u001b[0m\u001b[0;34m=\u001b[0m\u001b[0;32mFalse\u001b[0m\u001b[0;34m,\u001b[0m \u001b[0morder\u001b[0m\u001b[0;34m=\u001b[0m\u001b[0morder\u001b[0m\u001b[0;34m)\u001b[0m\u001b[0;34m\u001b[0m\u001b[0;34m\u001b[0m\u001b[0m\n\u001b[0m\u001b[1;32m     86\u001b[0m \u001b[0;34m\u001b[0m\u001b[0m\n\u001b[1;32m     87\u001b[0m \u001b[0;34m\u001b[0m\u001b[0m\n",
      "\u001b[0;31mKeyboardInterrupt\u001b[0m: "
     ]
    }
   ],
   "source": [
    "my_pos = (0,0)\n",
    "my_heading = 0\n",
    "picar.set_pose(world_pose=to_cartesian([my_pos[0], my_pos[1], my_heading]))\n",
    "\n",
    "\n",
    "actual_path = [picar.world_pose()]\n",
    "for node in path:\n",
    "    goal_pos = list(path.neighbors(my_pos))[0]\n",
    "    goal_heading = atan2(goal_pos[1]-my_pos[1], goal_pos[0]-my_pos[0])\n",
    "    picar.set_pose(goal_pose=to_cartesian([goal_pos[0], goal_pos[1], goal_heading]))\n",
    "    i=0\n",
    "    while (picar.rho()>0.1):\n",
    "         # Calculate controls\n",
    "        speed = controller.SPEED(rho=picar.rho(), dt=dt)\n",
    "        steer = controller.STEER(speed=speed, alpha=picar.alpha(), beta=picar.beta(), L=picar.L)\n",
    "\n",
    "        # Apply controls -- outputs are potentially adjusted if controls tried to go over max speed/steer\n",
    "        speed, steer = picar.drive(speed=speed, steer=steer, direction=direction)\n",
    "\n",
    "        # Update state via odometry\n",
    "        picar.set_pose(world_pose=picar.next_pose(speed=picar._current_speed, steer=picar._current_steer, direction=1, dt=dt))\n",
    "        my_pos = goal_pos\n",
    "        my_heading = goal_heading\n",
    "        if i % 50 ==0:\n",
    "            actual_path.append(picar.world_pose())\n",
    "        i+=1\n",
    "    print(\"Waypoint reached: {}\", picar.goal_pose())\n",
    "    \n",
    "    "
   ]
  },
  {
   "cell_type": "markdown",
   "metadata": {},
   "source": [
    "#### Commentary\n",
    "My control loop isn't properly tuned right now and my picar broke in transit so... I tried! You can see below that the simulation does well until it has to turn at (9,0), where it starts to loop out of control..."
   ]
  },
  {
   "cell_type": "code",
   "execution_count": 112,
   "metadata": {},
   "outputs": [
    {
     "data": {
      "image/png": "[encoded data removed]",
      "text/plain": [
       "<Figure size 432x288 with 1 Axes>"
      ]
     },
     "metadata": {
      "needs_background": "light"
     },
     "output_type": "display_data"
    }
   ],
   "source": [
    "plt.figure()\n",
    "for node in path:\n",
    "    plt.scatter(node[0], node[1], marker='o', c='b', s=10)\n",
    "[plt.scatter(pt.x, pt.y,c='r',marker='.') for i,pt in enumerate(actual_path) if i<2000];\n",
    "plt.xlim([-1,10])\n",
    "plt.ylim([-1,10])\n",
    "plt.grid('on')\n",
    "\n"
   ]
  },
  {
   "cell_type": "code",
   "execution_count": null,
   "metadata": {},
   "outputs": [],
   "source": []
  }
 ],
 "metadata": {
  "kernelspec": {
   "display_name": "Python 3",
   "language": "python",
   "name": "python3"
  },
  "language_info": {
   "codemirror_mode": {
    "name": "ipython",
    "version": 3
   },
   "file_extension": ".py",
   "mimetype": "text/x-python",
   "name": "python",
   "nbconvert_exporter": "python",
   "pygments_lexer": "ipython3",
   "version": "3.7.5"
  }
 },
 "nbformat": 4,
 "nbformat_minor": 2
}
