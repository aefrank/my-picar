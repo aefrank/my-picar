{
 "cells": [
  {
   "cell_type": "code",
   "execution_count": 1,
   "metadata": {},
   "outputs": [],
   "source": [
    "import numpy as np\n",
    "import matplotlib.pyplot as plt\n",
    "import matplotlib as mpl\n",
    "import sys\n",
    "from math import pi, sin, cos, tan\n",
    "from time import sleep\n",
    "\n",
    "# Find SunFounder_PiCar submodule\n",
    "sys.path.append(\"../lib\")\n",
    "sys.path.append(\"../lib/SunFounder_PiCar\")\n",
    "\n",
    "# Custom libraries\n",
    "from helpers import sign, angle_a2b, within_pi, clip\n",
    "from my_pid import myPID\n",
    "import perspectives \n",
    "from cartesian_pose import CartesianPose\n",
    "from bicycle_model  import BicyclePose, next_pose, dXdt, dYdt, dHdt\n",
    "from my_picar_utils import PicarHardwareInterface as Hardware \n",
    "from my_picar_utils import MyPicarController as Controller\n",
    "from my_picar_utils import HardwareUnitConverter as Converter \n",
    "from my_picar_utils import MyWorldFrame as World \n",
    "from my_picar import Picar"
   ]
  },
  {
   "cell_type": "code",
   "execution_count": 2,
   "metadata": {},
   "outputs": [],
   "source": [
    "def rotmat(theta):\n",
    "    return np.array([[cos(theta), -sin(theta)], [sin(theta),cos(theta)]])\n",
    "\n",
    "WIDTH=.8\n",
    "HEIGHT=1.2\n",
    "dims = np.array([HEIGHT,WIDTH])\n",
    "def plot_wp_rects(ax, allposes):\n",
    "    for pose in allposes:\n",
    "        xy = pose[:2]\n",
    "        th = pose[2]\n",
    "        correction = np.matmul(rotmat(th), dims)/2\n",
    "        r = mpl.patches.Rectangle(xy, HEIGHT, WIDTH, angle=th*180/pi, zorder=0)\n",
    "        r.set_xy(xy-correction)\n",
    "        ax.add_patch(r)\n",
    "    \n",
    "def to_cartesian(xyh):\n",
    "    return CartesianPose(x=xyh[0],y=xyh[1],h=xyh[2])"
   ]
  },
  {
   "cell_type": "code",
   "execution_count": null,
   "metadata": {},
   "outputs": [],
   "source": []
  },
  {
   "cell_type": "code",
   "execution_count": 3,
   "metadata": {},
   "outputs": [
    {
     "data": {
      "text/plain": [
       "<matplotlib.quiver.Quiver at 0x7f95348ef510>"
      ]
     },
     "execution_count": 3,
     "metadata": {},
     "output_type": "execute_result"
    },
    {
     "data": {
      "image/png": "[encoded data removed]",
      "text/plain": [
       "<Figure size 576x576 with 1 Axes>"
      ]
     },
     "metadata": {
      "needs_background": "light"
     },
     "output_type": "display_data"
    }
   ],
   "source": [
    "env_lims = np.array([ [0, 10], [0,10] ])\n",
    "\n",
    "# Coverage strategy: Snake vertically, then horizontally\n",
    "fig = plt.figure(figsize=(8,8))\n",
    "plt.plot([0,10,10,0, 0], [0, 0, 10, 10, 0], 'k')\n",
    "ax = plt.gca()\n",
    "ax.axis('equal')\n",
    "\n",
    "QR_codes = {\n",
    "    \"pos\" : np.array([ \n",
    "                [ 0,   2], [  0,  4], [ 0, 6], [ 0, 8], #left wall\n",
    "                [ 10,  2], [  10, 4], [10, 6], [10, 8], # right wall\n",
    "                [3.3,  0], [6.6,  0], # bottom wall\n",
    "                [3.3, 10], [6.6, 10] # top wall\n",
    "               ]),\n",
    "    \"id\" : np.array([ 1, 2, 2, 1,  # left wall\n",
    "                      2, 1, 1, 2,  # right wall\n",
    "                      1, 2,  # bottom wall\n",
    "                      2, 1   # top wall\n",
    "                    ])\n",
    "}\n",
    "\n",
    "\n",
    "picar_start = np.array([2,2, pi/2])\n",
    "waypoints = np.array([\n",
    "    [2,8,  pi/2],\n",
    "    [4,8, -pi/2],\n",
    "    [4,2, -pi/2],\n",
    "    [6,2,  pi/2],\n",
    "    [6,8,  pi/2],\n",
    "    [8,8, -pi/2],\n",
    "    [8,2, -pi/2]\n",
    "])\n",
    "allposes = np.insert(waypoints, 0, picar_start, axis=0) \n",
    "\n",
    "\n",
    "\n",
    "ax.scatter(QR_codes[\"pos\"][:,0], QR_codes[\"pos\"][:,1], c='b', marker='s', s=200)\n",
    "plt.plot( allposes[:,0], allposes[:,1], color='gray', ls='--')\n",
    "plot_wp_rects(ax, allposes)\n",
    "ax.quiver( allposes[:,0], allposes[:,1], \n",
    "           np.cos(allposes[:,2]), np.sin(allposes[:,2]),\n",
    "           color='r') "
   ]
  },
  {
   "cell_type": "code",
   "execution_count": 4,
   "metadata": {},
   "outputs": [],
   "source": [
    "\n",
    "def dist(a,b):\n",
    "    a = np.array(a)\n",
    "    b = np.array(b)\n",
    "    if np.ndim(a)==1:\n",
    "        a = a[None]\n",
    "    if np.ndim(b)==1:\n",
    "        b = b[None]\n",
    "    return np.squeeze(np.sqrt(np.sum(np.power(a-b,2),axis=1)))\n",
    "\n",
    "# while ( dist(picar.world_pose, goal) )"
   ]
  },
  {
   "cell_type": "code",
   "execution_count": 155,
   "metadata": {},
   "outputs": [],
   "source": [
    "import copy\n",
    "rhoPID   = myPID(Kp=0.3, Kd=0, Ki=0)\n",
    "alphaPID = myPID(Kp=1, Kd=0, Ki=0)\n",
    "betaPID  = myPID(Kp=1, Kd=0, Ki=0)\n",
    "controller = Controller(rhoPID, alphaPID, betaPID)\n",
    "\n",
    "units = Converter(speed_slope=1/83, angle_slope=-1.2) # Left and right are switched in hardware\n",
    "picar    = Picar(unit_converter=units, virtual=True)\n",
    "picar.set_pose(world_pose=to_cartesian(picar_start), goal_pose=to_cartesian(waypoints[0]))\n",
    "dt = 0.1\n",
    "\n",
    "def run(picar, waypoints, controller, dt, start_pose=None, ITER_CUTOFF=10000):\n",
    "    picar = copy.copy(picar)\n",
    "    if start_pose is not None:\n",
    "        # if a start pose is provided, set picar._world_pose\n",
    "        if not isinstance(start_pose, CartesianPose):\n",
    "            start_pose = to_cartesian(start_pose)\n",
    "        picar.set_pose(world_pose=start_pose)\n",
    "    # if a start is not provided, assume picar already set to start_pose\n",
    "    try:\n",
    "        for goal in waypoints[1:2]:\n",
    "            picar.set_pose(goal_pose=to_cartesian(goal))\n",
    "            i=0\n",
    "            while ( picar.rho()>0.5 and i < ITER_CUTOFF):\n",
    "                # Calculate controls\n",
    "                speed = controller.SPEED(rho=picar.rho(), dt=dt)\n",
    "                steer = controller.STEER(speed=speed, alpha=picar.alpha(), beta=picar.beta(), L=picar.L)\n",
    "                direction = controller.DIRECTION(alpha=picar.alpha())\n",
    "                \n",
    "                # Apply controls\n",
    "                speed, steer = picar.drive(speed=speed, steer=steer, direction=direction)\n",
    "\n",
    "                # Update state\n",
    "                picar.set_pose(world_pose=picar.next_pose(speed=picar._current_speed, steer=picar._current_steer, \n",
    "                                                          direction=picar._current_direction, dt=dt))              \n",
    "#                 if i % 50 == 0:\n",
    "#                     print(picar.bicycle_pose(), '\\n', picar._current_speed, picar._current_steer, '\\n', speed, steer)\n",
    "#                     print()\n",
    "                    \n",
    "                i+=1\n",
    "\n",
    "            #     sleep(dt)\n",
    "            print(picar.world_pose(), picar.goal_pose())\n",
    "    except Exception as e:\n",
    "        print(\"Exception occured: {}.\\nExiting run()...\".format(sys.exc_info()[:-1]))\n",
    "    finally:\n",
    "        print(i, picar.rho())\n",
    "        return picar\n",
    "    "
   ]
  },
  {
   "cell_type": "code",
   "execution_count": 156,
   "metadata": {},
   "outputs": [
    {
     "name": "stdout",
     "output_type": "stream",
     "text": [
      "CartesianPose: ( 4.477,  7.864,  2.311) CartesianPose: ( 4.000,  8.000, -1.571)\n",
      "167 0.49605619033558823\n"
     ]
    }
   ],
   "source": [
    "picar = run(picar, waypoints, controller, dt, start_pose=to_cartesian(waypoints[0]), ITER_CUTOFF=1e3)"
   ]
  },
  {
   "cell_type": "code",
   "execution_count": 118,
   "metadata": {},
   "outputs": [
    {
     "name": "stdout",
     "output_type": "stream",
     "text": [
      "CartesianPose: ( 2.000,  8.000,  1.571) CartesianPose: ( 4.000,  8.000, -1.571) \n",
      " BicyclePose: ( 2.000, -1.571, -1.571) \n",
      " 0.6 -36.24284307020928 1 \n",
      " 49.8 30.202369225174404\n"
     ]
    }
   ],
   "source": [
    "print(picar.world_pose(), picar.goal_pose(), '\\n', \n",
    "      picar.bicycle_pose(), '\\n',\n",
    "      picar._current_speed, picar._current_steer * 180/pi, picar._current_direction, '\\n',\n",
    "     picar.hw._send_speed(picar.hw.unit_converter.speed_world2hardware(picar._current_speed)), \n",
    "      picar.hw.unit_converter.angle_world2hardware(picar._current_steer))\n"
   ]
  },
  {
   "cell_type": "code",
   "execution_count": 128,
   "metadata": {},
   "outputs": [
    {
     "name": "stdout",
     "output_type": "stream",
     "text": [
      "boop\n"
     ]
    }
   ],
   "source": [
    "try:\n",
    "    b=0\n",
    "except KeyboardInterrupt as e:\n",
    "    pass\n",
    "finally:\n",
    "    print('boop')"
   ]
  },
  {
   "cell_type": "code",
   "execution_count": null,
   "metadata": {},
   "outputs": [],
   "source": []
  }
 ],
 "metadata": {
  "kernelspec": {
   "display_name": "Python 3",
   "language": "python",
   "name": "python3"
  },
  "language_info": {
   "codemirror_mode": {
    "name": "ipython",
    "version": 3
   },
   "file_extension": ".py",
   "mimetype": "text/x-python",
   "name": "python",
   "nbconvert_exporter": "python",
   "pygments_lexer": "ipython3",
   "version": "3.7.4"
  }
 },
 "nbformat": 4,
 "nbformat_minor": 2
}
